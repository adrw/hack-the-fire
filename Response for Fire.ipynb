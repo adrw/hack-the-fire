{
 "cells": [
  {
   "cell_type": "code",
   "execution_count": 1,
   "metadata": {
    "collapsed": true
   },
   "outputs": [],
   "source": [
    "# Purpose of the Hack\n",
    "# Use Calgary open data and basic perceptron algorithm to build predictive weighting\n",
    "# Can determine based on a month, day, and other attributes whether the record is for a Fire\n",
    "#\n",
    "# Data Source\n",
    "# City of Calgary\n",
    "# Last Updated: Sept 14, 2017\n",
    "# Total Records: 17,510\n",
    "# Accessed at: https://data.calgary.ca/Government/Fire-Emergency-Response-Calls/bdez-pds9"
   ]
  },
  {
   "cell_type": "code",
   "execution_count": 2,
   "metadata": {},
   "outputs": [
    {
     "name": "stdout",
     "output_type": "stream",
     "text": [
      "Populating the interactive namespace from numpy and matplotlib\n"
     ]
    }
   ],
   "source": [
    "import numpy as np\n",
    "import pandas as pd\n",
    "%pylab inline"
   ]
  },
  {
   "cell_type": "code",
   "execution_count": 3,
   "metadata": {},
   "outputs": [],
   "source": [
    "def codeToBinary(code):\n",
    "    \"\"\"\n",
    "    Input\n",
    "    ---\n",
    "    code : takes category code for Major Incident Type\n",
    "    \n",
    "    Output\n",
    "    ---\n",
    "    binary : 1 if fire, -1 if not fire\n",
    "    \"\"\"\n",
    "    if code == 1.0:\n",
    "        return 1\n",
    "    else:\n",
    "        return -1"
   ]
  },
  {
   "cell_type": "code",
   "execution_count": 4,
   "metadata": {},
   "outputs": [],
   "source": [
    "df = pd.read_csv(\"Fire_Emergency_Response_Calls.csv\")\n",
    "del df['id']\n",
    "# df.groupby(['date']).sum()['Incident Count'].plot()\n",
    "# df.groupby(['date']).sum()['Incident Count']\n",
    "# df[df['Major Incident Type']=='Fire']\n",
    "df['Major Incident Code'] = df['Major Incident Type'].astype('category')\n",
    "category_columns = df.select_dtypes(['category']).columns\n",
    "# df.dtypes\n",
    "df['Major Incident Code'].cat.codes # use to check that Fire is code 1\n",
    "df[category_columns] = df[category_columns].apply(lambda x: x.cat.codes)\n",
    "# df['Is Fire'] = df['Major Incident Code'].apply(codeToBinary)\n",
    "del df['date']\n",
    "del df['Major Incident Type']\n",
    "# del df['Is Fire']\n",
    "df\n",
    "\n",
    "y = pd.DataFrame(df['Major Incident Code'].apply(codeToBinary))\n",
    "y = y.rename(columns={'Major Incident Code' : 0})\n",
    "\n",
    "w = pd.Series(np.zeros(len(df.transpose())))\n",
    "\n",
    "del df['Major Incident Code']\n",
    "df = df.rename(columns={'Alarm Year': 0, 'Alarm Month': 1,  'Alarm Day': 2, 'Incident Count': 3})"
   ]
  },
  {
   "cell_type": "code",
   "execution_count": 5,
   "metadata": {
    "collapsed": true
   },
   "outputs": [],
   "source": [
    "def perceptron(X, y, w, b, max_pass):\n",
    "    \"\"\"\n",
    "    Perceptron Algorithm\n",
    "\n",
    "    Parameters\n",
    "    ---\n",
    "    X : Training set in R^(n x d)\n",
    "    y : True values {-1, 1}^n\n",
    "    w : empty 0^d weight array\n",
    "    b : bias\n",
    "    max_pass : number of passes of training set\n",
    "\n",
    "    Output\n",
    "    ---\n",
    "    w : fully trained weight classifying function\n",
    "    b : bias\n",
    "    mistake : array[max_pass] of number of predictions (<wX_i> + b) that didn't match truth value (y_i)\n",
    "    \"\"\"\n",
    "    # Initialize values\n",
    "    attributes = len(X.columns)\n",
    "    X[attributes] = y\n",
    "    X = X.transpose()\n",
    "    w[attributes] = b\n",
    "    mistake = [0] * max_pass\n",
    "    n = len(X.columns)\n",
    "\n",
    "    for i in range(0,max_pass):\n",
    "        mistake[i] = 0\n",
    "        for j in range(0,n):\n",
    "            prediction = y[0][j] * ( X[j].dot(w) )\n",
    "            if prediction <= 0:\n",
    "                mistake[i] += 1\n",
    "            yx = X.loc[:,j] * y[0][j]\n",
    "            w = w + yx\n",
    "            b = b + y[0][j]\n",
    "    return (mistake, w, b)"
   ]
  },
  {
   "cell_type": "code",
   "execution_count": 6,
   "metadata": {},
   "outputs": [],
   "source": [
    "mistake, trained_weight, trained_bias = perceptron(df, y, w, 0, 500)"
   ]
  },
  {
   "cell_type": "code",
   "execution_count": 7,
   "metadata": {},
   "outputs": [
    {
     "data": {
      "text/plain": [
       "[<matplotlib.lines.Line2D at 0x1152f8320>]"
      ]
     },
     "execution_count": 7,
     "metadata": {},
     "output_type": "execute_result"
    },
    {
     "data": {
      "image/png": "[encoded data removed]",
      "text/plain": [
       "<matplotlib.figure.Figure at 0x1150330b8>"
      ]
     },
     "metadata": {},
     "output_type": "display_data"
    }
   ],
   "source": [
    "plot(mistake)"
   ]
  },
  {
   "cell_type": "code",
   "execution_count": 10,
   "metadata": {},
   "outputs": [
    {
     "data": {
      "text/plain": [
       "0   -1.210677e+10\n",
       "1   -3.830300e+07\n",
       "2   -9.417950e+07\n",
       "3   -1.990125e+08\n",
       "4    8.755000e+06\n",
       "dtype: float64"
      ]
     },
     "execution_count": 10,
     "metadata": {},
     "output_type": "execute_result"
    }
   ],
   "source": [
    "# prediction = y[0][j] * ( X[j].dot(w) )\n",
    "trained_weight"
   ]
  },
  {
   "cell_type": "code",
   "execution_count": null,
   "metadata": {
    "collapsed": true
   },
   "outputs": [],
   "source": []
  }
 ],
 "metadata": {
  "kernelspec": {
   "display_name": "Python 3",
   "language": "python",
   "name": "python3"
  },
  "language_info": {
   "codemirror_mode": {
    "name": "ipython",
    "version": 3
   },
   "file_extension": ".py",
   "mimetype": "text/x-python",
   "name": "python",
   "nbconvert_exporter": "python",
   "pygments_lexer": "ipython3",
   "version": "3.6.1"
  }
 },
 "nbformat": 4,
 "nbformat_minor": 2
}
