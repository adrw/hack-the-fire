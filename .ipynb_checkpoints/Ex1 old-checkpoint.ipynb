{
 "cells": [
  {
   "cell_type": "code",
   "execution_count": 18,
   "metadata": {},
   "outputs": [
    {
     "name": "stdout",
     "output_type": "stream",
     "text": [
      "Populating the interactive namespace from numpy and matplotlib\n"
     ]
    }
   ],
   "source": [
    "import numpy as np\n",
    "import pandas as pd\n",
    "%pylab inline"
   ]
  },
  {
   "cell_type": "code",
   "execution_count": 52,
   "metadata": {},
   "outputs": [],
   "source": [
    "# Read in data\n",
    "dfx = pd.read_csv(\"spambase_X.csv\", header=None)\n",
    "dfy = pd.read_csv(\"spambase_y.csv\", header=None, names=['y'])"
   ]
  },
  {
   "cell_type": "code",
   "execution_count": 53,
   "metadata": {},
   "outputs": [],
   "source": [
    "# Initialize values\n",
    "X = dfx.transpose()\n",
    "w = [0] * len(dfx.columns)\n",
    "max_pass = 500\n",
    "mistake = [0] * max_pass"
   ]
  },
  {
   "cell_type": "code",
   "execution_count": 61,
   "metadata": {},
   "outputs": [
    {
     "name": "stdout",
     "output_type": "stream",
     "text": [
      "test\n",
      "test\n"
     ]
    }
   ],
   "source": [
    "def perceptron_1(X, y, w, b, max_pass):\n",
    "    \"\"\"\n",
    "    Perceptron Algorithm\n",
    "\n",
    "    Parameters\n",
    "    ---\n",
    "    X : Training set in R^(n x d)\n",
    "    y : True values {-1, 1}^n\n",
    "    w : empty 0^d weight array\n",
    "    b : bias\n",
    "    max_pass : number of passes of training set\n",
    "    \n",
    "    Output\n",
    "    ---\n",
    "    w : fully trained weight classifying function\n",
    "    b : bias\n",
    "    mistake : array[max_pass] of number of predictions (<wX_i> + b) that didn't match truth value (y_i)\n",
    "    \"\"\"\n",
    "    for i in range(0,max_pass):\n",
    "        print(\"test\")\n",
    "\n",
    "\n",
    "        \n",
    "        \n",
    "        \n",
    "perceptron_1(X, dfy, w, 0, max_pass)"
   ]
  },
  {
   "cell_type": "code",
   "execution_count": null,
   "metadata": {
    "collapsed": true
   },
   "outputs": [],
   "source": []
  }
 ],
 "metadata": {
  "kernelspec": {
   "display_name": "Python 3",
   "language": "python",
   "name": "python3"
  }
 },
 "nbformat": 4,
 "nbformat_minor": 2
}
